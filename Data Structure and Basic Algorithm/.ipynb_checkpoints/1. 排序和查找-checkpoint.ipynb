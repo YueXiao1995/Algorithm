{
 "cells": [
  {
   "cell_type": "markdown",
   "metadata": {},
   "source": [
    "## 排序算法\n",
    "------"
   ]
  },
  {
   "cell_type": "markdown",
   "metadata": {},
   "source": [
    "### 1. 冒泡排序 （Bubble Sort）"
   ]
  },
  {
   "cell_type": "markdown",
   "metadata": {},
   "source": [
    "冒泡排序是一种简单的排序算法。它重复地走访过要排序的数列，一次比较两个元素，如果它们的顺序错误就把它们交换过来。走访数列的工作是重复地进行直到没有再需要交换，也就是说该数列已经排序完成。这个算法的名字由来是因为越小的元素会经由交换慢慢“浮”到数列的顶端。\n",
    "\n",
    "**算法描述**\n",
    "    \n",
    "    1. 比较相邻的元素。如果第一个比第二个大，就交换它们两个；\n",
    "    2. 对每一对相邻元素作同样的工作，从开始第一对到结尾的最后一对，这样在最后的元素应该会是最大的数；\n",
    "    3. 针对所有的元素重复以上的步骤，除了最后一个；\n",
    "   \n",
    "    重复步骤1~3，直到排序完成。"
   ]
  },
  {
   "cell_type": "code",
   "execution_count": 80,
   "metadata": {},
   "outputs": [
    {
     "name": "stdout",
     "output_type": "stream",
     "text": [
      "Before:\n",
      "[3, 2, 5, 23, 24, 4, 6, 9, 11, 43]\n",
      "After:\n",
      "[2, 3, 4, 5, 6, 9, 11, 23, 24, 43]\n"
     ]
    }
   ],
   "source": [
    "nums = [3, 2, 5, 23, 24, 4, 6, 9, 11, 43]\n",
    "def bubbleSort(nums):\n",
    "    l = len(nums)\n",
    "    while True:\n",
    "        is_swapped = False\n",
    "        for i in range(l - 1):\n",
    "            if nums[i] > nums[i + 1]:\n",
    "                temp = nums[i]\n",
    "                nums[i] = nums[i + 1]\n",
    "                nums[i + 1] = temp\n",
    "                is_swapped = True\n",
    "        l -= 1\n",
    "        if is_swapped == False:\n",
    "            break\n",
    "    return nums\n",
    "print('Before:')\n",
    "print(nums)\n",
    "nums = bubbleSort(nums)\n",
    "print('After:')\n",
    "print(nums)            "
   ]
  },
  {
   "cell_type": "markdown",
   "metadata": {},
   "source": [
    "### 2. 选择排序 （Selection Sort）"
   ]
  },
  {
   "cell_type": "markdown",
   "metadata": {},
   "source": [
    "选择排序(Selection-sort)是一种简单直观的排序算法。它的工作原理：首先在未排序序列中找到最小（大）元素，存放到排序序列的起始位置，然后，再从剩余未排序元素中继续寻找最小（大）元素，然后放到已排序序列的末尾。以此类推，直到所有元素均排序完毕。\n",
    "\n",
    "**算法描述**\n",
    "\n",
    "n个记录的直接选择排序可经过n-1趟直接选择排序得到有序结果。具体算法描述如下：\n",
    "\n",
    "    1. 初始状态：无序区为R[1..n]，有序区为空；\n",
    "    2. 第i趟排序(i=1,2,3…n-1)开始时，当前有序区和无序区分别为R[1..i-1]和R(i..n）。该趟排序从当前无序区中-选出关键字最小的记录 R[k]，将它与无序区的第1个记录R交换，使R[1..i]和R[i+1..n)分别变为记录个数增加1个的新有序区和记录个数减少1个的新无序区；\n",
    "    3. n-1趟结束，数组有序化了。\n"
   ]
  },
  {
   "cell_type": "code",
   "execution_count": 81,
   "metadata": {},
   "outputs": [
    {
     "name": "stdout",
     "output_type": "stream",
     "text": [
      "Before:\n",
      "[3, 2, 5, 23, 24, 4, 6, 9, 11, 43]\n",
      "After:\n",
      "[2, 3, 4, 5, 6, 9, 11, 23, 24, 43]\n"
     ]
    }
   ],
   "source": [
    "nums = [3, 2, 5, 23, 24, 4, 6, 9, 11, 43]\n",
    "def selectionSort(nums):\n",
    "    for i in range(len(nums)):\n",
    "        min_index = i\n",
    "        for j in range(i + 1, len(nums) - 1):\n",
    "            if nums[j] < nums[min_index]:\n",
    "                min_index = j\n",
    "        temp = nums[min_index]\n",
    "        nums[min_index] = nums[i]\n",
    "        nums[i] = temp\n",
    "    return nums\n",
    "            \n",
    "print('Before:')\n",
    "print(nums)\n",
    "nums = selectionSort(nums)\n",
    "print('After:')\n",
    "print(nums)     "
   ]
  },
  {
   "cell_type": "markdown",
   "metadata": {},
   "source": [
    "### 3. 插入排序 （Insertion Sort）"
   ]
  },
  {
   "cell_type": "markdown",
   "metadata": {},
   "source": [
    "插入排序（Insertion-Sort）的算法描述是一种简单直观的排序算法。它的工作原理是通过构建有序序列，对于未排序数据，在已排序序列中从后向前扫描，找到相应位置并插入。\n",
    "\n",
    "**算法描述**\n",
    "\n",
    "一般来说，插入排序都采用in-place在数组上实现。具体算法描述如下：\n",
    "\n",
    "    1. 从第一个元素开始，该元素可以认为已经被排序；\n",
    "    2. 取出下一个元素，在已经排序的元素序列中从后向前扫描；\n",
    "    3. 如果该元素（已排序）大于新元素，将该元素移到下一位置；\n",
    "    4. 重复步骤3，直到找到已排序的元素小于或者等于新元素的位置；\n",
    "    5. 将新元素插入到该位置后；\n",
    "    6. 重复步骤2~5。"
   ]
  },
  {
   "cell_type": "code",
   "execution_count": 82,
   "metadata": {},
   "outputs": [
    {
     "name": "stdout",
     "output_type": "stream",
     "text": [
      "Before:\n",
      "[3, 2, 5, 23, 24, 4, 6, 9, 11, 43]\n",
      "After:\n",
      "[2, 3, 4, 5, 6, 9, 11, 23, 24, 43]\n"
     ]
    }
   ],
   "source": [
    "nums = [3, 2, 5, 23, 24, 4, 6, 9, 11, 43]\n",
    "def insertionSort(nums):\n",
    "    for i in range(len(nums)):\n",
    "        is_inserted = False\n",
    "        for j in reversed(range(i)):\n",
    "            if nums[j] < nums[i]:\n",
    "                nums.insert(j + 1, nums[i])\n",
    "                is_inserted = True\n",
    "                break\n",
    "        if is_inserted == False:\n",
    "            nums.insert(0, nums[i])\n",
    "        del nums[i + 1]\n",
    "    return nums\n",
    "\n",
    "print('Before:')\n",
    "print(nums)\n",
    "nums = insertionSort(nums)\n",
    "print('After:')\n",
    "print(nums) "
   ]
  },
  {
   "cell_type": "markdown",
   "metadata": {},
   "source": [
    "### 4. 希尔排序 （Shell Sort）"
   ]
  },
  {
   "cell_type": "markdown",
   "metadata": {},
   "source": [
    "1959年Shell发明，第一个突破O(n2)的排序算法，是简单插入排序的改进版。它与插入排序的不同之处在于，它会优先比较距离较远的元素。希尔排序又叫缩小增量排序。\n",
    "\n",
    "**算法描述**\n",
    "\n",
    "先将整个待排序的记录序列分割成为若干子序列分别进行直接插入排序，具体算法描述：\n",
    "\n",
    "    1. 选择一个增量序列t1，t2，…，tk，其中ti>tj，tk=1；\n",
    "    2. 按增量序列个数k，对序列进行k 趟排序；\n",
    "    3. 每趟排序，根据对应的增量ti，将待排序列分割成若干长度为m 的子序列，分别对各子表进行直接插入排序。仅增量因子为1 时，整个序列作为一个表来处理，表长度即为整个序列的长度。"
   ]
  },
  {
   "cell_type": "code",
   "execution_count": 83,
   "metadata": {},
   "outputs": [
    {
     "name": "stdout",
     "output_type": "stream",
     "text": [
      "Before:\n",
      "[3, 2, 5, 23, 24, 4, 6, 9, 11, 43]\n",
      "After:\n",
      "[2, 3, 4, 5, 6, 9, 11, 23, 24, 43]\n"
     ]
    }
   ],
   "source": [
    "nums = [3, 2, 5, 23, 24, 4, 6, 9, 11, 43]\n",
    "def ShellSort(nums):\n",
    "    t = len(nums)//2\n",
    "    while True:\n",
    "        for i in range(t):\n",
    "            for j in range(i, len(nums), t):\n",
    "                is_inserted = False\n",
    "                for k in reversed(range(i, j, t)):\n",
    "                    if nums[k] < nums[j]:\n",
    "                        nums.insert(k + t, nums[j])\n",
    "                        is_inserted = True\n",
    "                        break\n",
    "                if is_inserted == False:\n",
    "                    nums.insert(i ,nums[j])\n",
    "                del nums[j + 1]\n",
    "        if t == 1:\n",
    "            break\n",
    "        t //= 2\n",
    "    return nums\n",
    "\n",
    "print('Before:')\n",
    "print(nums)\n",
    "nums = ShellSort(nums)\n",
    "print('After:')\n",
    "print(nums) "
   ]
  },
  {
   "cell_type": "markdown",
   "metadata": {},
   "source": [
    "### 5. 归并排序 （Merge Sort）"
   ]
  },
  {
   "cell_type": "markdown",
   "metadata": {},
   "source": [
    "归并排序是建立在归并操作上的一种有效的排序算法。该算法是采用分治法（Divide and Conquer）的一个非常典型的应用。将已有序的子序列合并，得到完全有序的序列；即先使每个子序列有序，再使子序列段间有序。若将两个有序表合并成一个有序表，称为2-路归并。\n",
    "\n",
    "**算法描述**\n",
    "\n",
    "    1. 把长度为n的输入序列分成两个长度为n/2的子序列；\n",
    "    2. 对这两个子序列分别采用归并排序；\n",
    "    3. 将两个排序好的子序列合并成一个最终的排序序列。"
   ]
  },
  {
   "cell_type": "code",
   "execution_count": 84,
   "metadata": {},
   "outputs": [
    {
     "name": "stdout",
     "output_type": "stream",
     "text": [
      "Before:\n",
      "[3, 2, 5, 23, 24, 4, 6, 9, 11, 43]\n",
      "After:\n",
      "[2, 3, 4, 5, 6, 9, 11, 23, 24, 43]\n"
     ]
    }
   ],
   "source": [
    "nums = [3, 2, 5, 23, 24, 4, 6, 9, 11, 43]\n",
    "def MergeSort(nums):\n",
    "    if len(nums) == 1:\n",
    "        return nums\n",
    "    else:\n",
    "        left = MergeSort(nums[:len(nums)//2])\n",
    "        right = MergeSort(nums[len(nums)//2:])\n",
    "        left_index = 0\n",
    "        right_index = 0\n",
    "        new_nums = list()\n",
    "        for i in range(len(nums)):\n",
    "            if left_index == len(left):\n",
    "                new_nums.append(right[right_index])\n",
    "                right_index += 1\n",
    "            elif right_index == len(right):\n",
    "                new_nums.append(left[left_index])\n",
    "                left_index += 1\n",
    "            else:\n",
    "                if left[left_index] < right[right_index]:\n",
    "                    new_nums.append(left[left_index])\n",
    "                    left_index += 1\n",
    "                else:\n",
    "                    new_nums.append(right[right_index])\n",
    "                    right_index += 1\n",
    "        return new_nums\n",
    "\n",
    "print('Before:')\n",
    "print(nums)\n",
    "nums = MergeSort(nums)\n",
    "print('After:')\n",
    "print(nums) "
   ]
  },
  {
   "cell_type": "markdown",
   "metadata": {},
   "source": [
    "### 6. 快速排序（Quick Sort）"
   ]
  },
  {
   "cell_type": "markdown",
   "metadata": {},
   "source": [
    "快速排序的基本思想：通过一趟排序将待排记录分隔成独立的两部分，其中一部分记录的关键字均比另一部分的关键字小，则可分别对这两部分记录继续进行排序，以达到整个序列有序。\n",
    "\n",
    "**算法描述**\n",
    "\n",
    "快速排序使用分治法来把一个串（list）分为两个子串（sub-lists）。具体算法描述如下：\n",
    "\n",
    "    1. 从数列中挑出一个元素，称为 “基准”（pivot）；\n",
    "    2. 重新排序数列，所有元素比基准值小的摆放在基准前面，所有元素比基准值大的摆在基准的后面（相同的数可以到任一边）。在这个分区退出之后，该基准就处于数列的中间位置。这个称为分区（partition）操作；\n",
    "    3. 递归地（recursive）把小于基准值元素的子数列和大于基准值元素的子数列排序。"
   ]
  },
  {
   "cell_type": "code",
   "execution_count": 85,
   "metadata": {},
   "outputs": [
    {
     "name": "stdout",
     "output_type": "stream",
     "text": [
      "Before:\n",
      "[3, 2, 5, 23, 24, 4, 6, 9, 11, 43]\n",
      "After:\n",
      "[2, 3, 4, 5, 6, 9, 11, 23, 24, 43]\n"
     ]
    }
   ],
   "source": [
    "nums = [3, 2, 5, 23, 24, 4, 6, 9, 11, 43]\n",
    "def quickSort(nums):\n",
    "    pivot = nums[0]\n",
    "    pivot_index = 0\n",
    "    for i in range(1, len(nums)):\n",
    "        if nums[i] < pivot:\n",
    "            nums.insert(0, nums[i])\n",
    "            pivot_index += 1\n",
    "            del nums[i + 1]\n",
    "    if pivot_index > 0:\n",
    "        nums = quickSort(nums[:pivot_index]) + nums[pivot_index:]\n",
    "    if pivot_index < len(nums) - 1:\n",
    "        nums = nums[:pivot_index + 1] + quickSort(nums[pivot_index + 1:])\n",
    "    return nums\n",
    "\n",
    "print('Before:')\n",
    "print(nums)\n",
    "nums = quickSort(nums)\n",
    "print('After:')\n",
    "print(nums)"
   ]
  },
  {
   "cell_type": "markdown",
   "metadata": {},
   "source": [
    "### 7. 堆排序（Heap Sort）"
   ]
  },
  {
   "cell_type": "markdown",
   "metadata": {},
   "source": [
    "堆排序（Heapsort）是指利用堆这种数据结构所设计的一种排序算法。堆积是一个近似完全二叉树的结构，并同时满足堆积的性质：即子结点的键值或索引总是小于（或者大于）它的父节点。\n",
    "\n",
    "**算法描述**\n",
    "\n",
    "    1. 将初始待排序关键字序列(R1,R2….Rn)构建成大顶堆，此堆为初始的无序区；\n",
    "    2. 将堆顶元素R[1]与最后一个元素R[n]交换，此时得到新的无序区(R1,R2,……Rn-1)和新的有序区(Rn),且满足R[1,2…n-1]<=R[n]；\n",
    "    3. 由于交换后新的堆顶R[1]可能违反堆的性质，因此需要对当前无序区(R1,R2,……Rn-1)调整为新堆，然后再次将R[1]与无序区最后一个元素交换，得到新的无序区(R1,R2….Rn-2)和新的有序区(Rn-1,Rn)。不断重复此过程直到有序区的元素个数为n-1，则整个排序过程完成。"
   ]
  },
  {
   "cell_type": "code",
   "execution_count": 86,
   "metadata": {},
   "outputs": [
    {
     "name": "stdout",
     "output_type": "stream",
     "text": [
      "Before:\n",
      "[3, 2, 5, 23, 24, 4, 6, 9, 11, 43]\n",
      "After:\n",
      "[2, 3, 4, 5, 6, 9, 11, 23, 24, 43]\n"
     ]
    }
   ],
   "source": [
    "nums = [3, 2, 5, 23, 24, 4, 6, 9, 11, 43]\n",
    "# 构建大顶堆\n",
    "def buildMaxHeap(nums):\n",
    "    # 堆的前len(nums)//2个节点会有子叶，所以只需要考虑它们, 从后往前进行历遍\n",
    "    for i in range((len(nums)//2), -1, -1):\n",
    "        heapify(nums, i)\n",
    "        \n",
    "# 递归地比较节点与子叶的值，如果子叶大于节点，则进行交换\n",
    "def heapify(nums, i):\n",
    "    # 算出两个子叶的位置\n",
    "    left = 2*i+1\n",
    "    right = 2*i+2\n",
    "    # 假设节点就是最大值\n",
    "    largest = i\n",
    "    # 首先判断这两个子叶在不在堆中，然后比较与根节点的大小\n",
    "    if left < len(nums) and nums[left] > nums[largest]:\n",
    "        largest = left\n",
    "    if right < len(nums) and nums[right] > nums[largest]:\n",
    "        largest = right\n",
    "    # 判断最初的堆顶是否为最大值，如果是，则什么都不做\n",
    "    if largest != i:\n",
    "        # 如果不是，此时nums[largest]必为最大，与nums[i]对调，并递归地检查下一层\n",
    "        swap(nums, i, largest)\n",
    "        heapify(nums, largest)\n",
    "    return nums\n",
    "        \n",
    "# 交换list中两个元素的位置\n",
    "def swap(nums, i, j):\n",
    "    temp = nums[i]\n",
    "    nums[i] = nums[j]\n",
    "    nums[j] = temp\n",
    "    \n",
    "def heapSort(nums):\n",
    "    # 从堆底到堆顶（即数组的最后一位到第一位），通过与子叶比较大小，并交换的方式，得到大顶堆\n",
    "    # 最后一层的节点由于没有子叶， 所以不用参与比较，因此有子叶，也就是有需要进行比较的节点\n",
    "    # 数目就 len(nums) // 2\n",
    "    buildMaxHeap(nums)\n",
    "    # 初始化排序完成部分的大小\n",
    "    i = 0\n",
    "    while i < len(nums): \n",
    "        # 将堆顶(nums[0])与堆尾(nums[i])进行互换，堆的大小 - 1， nums[i]归入已排序部分\n",
    "        swap(nums, 0, len(nums) - i - 1)\n",
    "        i += 1\n",
    "        # 从新堆顶开始，递归地比较子节点与其子叶的大小并互换，让堆重新成为大顶堆\n",
    "        nums = heapify(nums[:len(nums) - i], 0) + nums[len(nums) - i:]\n",
    "    return nums\n",
    "\n",
    "print('Before:')\n",
    "print(nums)\n",
    "nums = heapSort(nums)\n",
    "print('After:')\n",
    "print(nums)"
   ]
  },
  {
   "cell_type": "markdown",
   "metadata": {},
   "source": [
    "### 8. 计数排序（Counting Sort）"
   ]
  },
  {
   "cell_type": "markdown",
   "metadata": {},
   "source": [
    "计数排序不是基于比较的排序算法，其核心在于将输入的数据值转化为键存储在额外开辟的数组空间中。 作为一种线性时间复杂度的排序，计数排序要求输入的数据必须是有确定范围的整数。\n",
    "\n",
    "**算法描述**\n",
    "\n",
    "    1. 找出待排序的数组中最大和最小的元素；\n",
    "    2. 统计数组中每个值为i的元素出现的次数，存入数组C的第i项；\n",
    "    3. 对所有的计数累加（从C中的第一个元素开始，每一项和前一项相加）；\n",
    "    4. 反向填充目标数组：将每个元素i放在新数组的第C(i)项，每放一个元素就将C(i)减去1。"
   ]
  },
  {
   "cell_type": "code",
   "execution_count": 87,
   "metadata": {},
   "outputs": [
    {
     "name": "stdout",
     "output_type": "stream",
     "text": [
      "Before:\n",
      "[3, 2, 2, 1, 5, 23, 24, 4, 4, 6, 9, 33, 11, 49, 43]\n",
      "After:\n",
      "[1, 2, 2, 3, 4, 4, 5, 6, 9, 11, 23, 24, 33, 43, 49]\n"
     ]
    }
   ],
   "source": [
    "nums = [3, 2, 2, 1, 5, 23, 24, 4, 4, 6, 9, 33, 11, 49, 43]\n",
    "def countingSort(nums):\n",
    "    # 找出最大元素和最小元素\n",
    "    max_value = nums[0]\n",
    "    min_value = nums[0]\n",
    "    for i in range(len(nums)):\n",
    "        if nums[i] > max_value:\n",
    "            max_value = nums[i]\n",
    "        if nums[i] < min_value:\n",
    "            min_value = nums[i]\n",
    "    # 构建用于记录元素出现次数的新数组      \n",
    "    c = [0] * (max_value - min_value + 1)\n",
    "    # 统计元素出现的次数\n",
    "    for i in range(len(nums)):\n",
    "        c[nums[i] - min_value] += 1\n",
    "    # 反相填充数组\n",
    "    new_nums = list()\n",
    "    for i in range(len(c)):\n",
    "        for j in range(c[i]): \n",
    "            new_nums.append(i + min_value)           \n",
    "    return new_nums\n",
    "\n",
    "print('Before:')\n",
    "print(nums)\n",
    "nums = countingSort(nums)\n",
    "print('After:')\n",
    "print(nums)"
   ]
  },
  {
   "cell_type": "markdown",
   "metadata": {},
   "source": [
    "### 9. 桶排序（Bucket Sort）"
   ]
  },
  {
   "cell_type": "markdown",
   "metadata": {},
   "source": [
    "桶排序是计数排序的升级版。它利用了函数的映射关系，高效与否的关键就在于这个映射函数的确定。桶排序 (Bucket sort)的工作的原理：假设输入数据服从均匀分布，将数据分到有限数量的桶里，每个桶再分别排序（有可能再使用别的排序算法或是以递归方式继续使用桶排序进行排）。\n",
    "\n",
    "**算法描述**\n",
    "    1. 设置一个定量的数组当作空桶；\n",
    "    2. 遍历输入数据，并且把数据一个一个放到对应的桶里去；\n",
    "    3. 对每个不是空的桶进行排序；\n",
    "    4. 从不是空的桶里把排好序的数据拼接起来。 "
   ]
  },
  {
   "cell_type": "code",
   "execution_count": 88,
   "metadata": {},
   "outputs": [
    {
     "name": "stdout",
     "output_type": "stream",
     "text": [
      "Before:\n",
      "[3, 2, 1, 5, 23, 24, 4, 6, 9, 33, 11, 49, 43]\n",
      "After:\n",
      "[1, 2, 3, 4, 5, 6, 9, 11, 23, 24, 33, 43, 49]\n"
     ]
    }
   ],
   "source": [
    "nums = [3, 2, 1, 5, 23, 24, 4, 6, 9, 33, 11, 49, 43]\n",
    "def bucketSort(nums):\n",
    "    # 找出最大元素和最小元素\n",
    "    max_value = nums[0]\n",
    "    min_value = nums[0]\n",
    "    for i in range(len(nums)):\n",
    "        if nums[i] > max_value:\n",
    "            max_value = nums[i]\n",
    "        if nums[i] < min_value:\n",
    "            min_value = nums[i]\n",
    "            \n",
    "    # 初始化桶\n",
    "    default_bucket_size = 5\n",
    "    bucket_count = (max_value - min_value) // default_bucket_size + 1\n",
    "    buckets = [None] * bucket_count\n",
    "    \n",
    "    # 将数据存入桶中\n",
    "    for i in range(len(nums)):\n",
    "        bucket_index = (nums[i] - min_value) // default_bucket_size\n",
    "        if buckets[bucket_index] == None:\n",
    "            buckets[bucket_index] = [nums[i]]\n",
    "        else:\n",
    "            buckets[bucket_index].append(nums[i])\n",
    "            \n",
    "    # 对桶中的元素进行排序, 这里使用插入排序\n",
    "    for i in range(len(buckets)):\n",
    "        if buckets[i] != None:\n",
    "            buckets[i] = insertionSort(buckets[i])\n",
    "            \n",
    "    # 把桶中的有序数组拼接起来\n",
    "    new_nums = list()\n",
    "    for i in range(len(buckets)):\n",
    "        if buckets[i] != None:\n",
    "            new_nums.extend(buckets[i])\n",
    "    return new_nums\n",
    "\n",
    "print('Before:')\n",
    "print(nums)\n",
    "nums = bucketSort(nums)\n",
    "print('After:')\n",
    "print(nums)"
   ]
  },
  {
   "cell_type": "markdown",
   "metadata": {},
   "source": [
    "### 10. 基数排序（Radix Sort）"
   ]
  },
  {
   "cell_type": "markdown",
   "metadata": {},
   "source": [
    "基数排序是按照低位先排序，然后收集；再按照高位排序，然后再收集；依次类推，直到最高位。有时候有些属性是有优先级顺序的，先按低优先级排序，再按高优先级排序。最后的次序就是高优先级高的在前，高优先级相同的低优先级高的在前。\n",
    "\n",
    "**算法描述**\n",
    "    1. 取得数组中的最大数，并取得位数；\n",
    "    2. arr为原始数组，从最低位开始取每个位组成radix数组；\n",
    "    3. 对radix进行计数排序（利用计数排序适用于小范围数的特点）；"
   ]
  },
  {
   "cell_type": "code",
   "execution_count": 89,
   "metadata": {},
   "outputs": [
    {
     "name": "stdout",
     "output_type": "stream",
     "text": [
      "Before:\n",
      "[3, 2, 1, 5, 23, 24, 4, 6, 9, 33, 11, 49, 43]\n",
      "After:\n",
      "[1, 2, 3, 4, 5, 6, 9, 11, 23, 24, 33, 43, 49]\n"
     ]
    }
   ],
   "source": [
    "nums = [3, 2, 1, 5, 23, 24, 4, 6, 9, 33, 11, 49, 43]\n",
    "def radixSort(nums):\n",
    "    # 找到最大值\n",
    "    max_value = nums[0]\n",
    "    for i in range(len(nums)):\n",
    "        if nums[i] > max_value:\n",
    "            max_value = nums[i]\n",
    "            \n",
    "    # 得到最大位数\n",
    "    max_digit = 0\n",
    "    while 10 ** max_digit < max_value:\n",
    "        max_digit += 1\n",
    "        \n",
    "    # 根据将元素最低位到高位进行排序\n",
    "    for i in range(max_digit):\n",
    "        # 构造长度为10的radix数组\n",
    "        radix_array = [None] * 10\n",
    "        # 根据第i位将元素存入不同的radix数组中\n",
    "        for j in range(len(nums)):\n",
    "            index = (nums[j] % (10 ** (i + 1))) // (10 ** (i))\n",
    "            if radix_array[index] != None:\n",
    "                radix_array[index].append(nums[j])\n",
    "            else:\n",
    "                radix_array[index] = [nums[j]]\n",
    "        # 收集构造一个新的数组\n",
    "        new_nums = list()\n",
    "        for i in range(10):\n",
    "            if radix_array[i] != None:\n",
    "                new_nums.extend(radix_array[i])\n",
    "        # 更新数组\n",
    "        nums = new_nums\n",
    "    return nums\n",
    "        \n",
    "print('Before:')\n",
    "print(nums)\n",
    "nums = radixSort(nums)\n",
    "print('After:')\n",
    "print(nums)"
   ]
  },
  {
   "cell_type": "markdown",
   "metadata": {},
   "source": [
    "## 查找算法\n",
    "------"
   ]
  },
  {
   "cell_type": "markdown",
   "metadata": {},
   "source": [
    "### 1. 顺序查找"
   ]
  },
  {
   "cell_type": "code",
   "execution_count": 90,
   "metadata": {},
   "outputs": [
    {
     "name": "stdout",
     "output_type": "stream",
     "text": [
      "The element 1 is contained in the array\n"
     ]
    }
   ],
   "source": [
    "nums = [1, 3, 9, 2, 5, 4, 11, 33, 15, 14, 6]\n",
    "def sequentialSearch(nums, n):\n",
    "    for i in range(len(nums)):\n",
    "        if nums[i] == n:\n",
    "            return True\n",
    "    return False\n",
    "\n",
    "n = 1\n",
    "if sequentialSearch(nums, n):\n",
    "    print('The element '+ str(n) +' is contained in the array')\n",
    "else:\n",
    "    print('The element '+ str(n) +' is not contained in the array')"
   ]
  },
  {
   "cell_type": "markdown",
   "metadata": {},
   "source": [
    "### 2. 二分查找"
   ]
  },
  {
   "cell_type": "code",
   "execution_count": 91,
   "metadata": {},
   "outputs": [
    {
     "name": "stdout",
     "output_type": "stream",
     "text": [
      "The element 1 is contained in the array\n"
     ]
    }
   ],
   "source": [
    "nums = [1, 2, 3, 5, 6, 11, 15, 16, 30]\n",
    "def binarySearch(nums, n):\n",
    "    start = 0\n",
    "    end = len(nums) - 1\n",
    "    while end >= start:\n",
    "        mid = (end + start) // 2\n",
    "        if nums[mid] == n:\n",
    "            return True\n",
    "        elif nums[mid] > n:\n",
    "            end = mid - 1\n",
    "        else:\n",
    "            start = mid + 1   \n",
    "    return False\n",
    "\n",
    "n = 1\n",
    "if binarySearch(nums, n):\n",
    "    print('The element '+ str(n) +' is contained in the array')\n",
    "else:\n",
    "    print('The element '+ str(n) +' is not contained in the array')"
   ]
  },
  {
   "cell_type": "markdown",
   "metadata": {},
   "source": [
    "### 3.插值查找"
   ]
  },
  {
   "cell_type": "code",
   "execution_count": 92,
   "metadata": {},
   "outputs": [
    {
     "name": "stdout",
     "output_type": "stream",
     "text": [
      "The element 13 is not contained in the array\n"
     ]
    }
   ],
   "source": [
    "nums = [1, 2, 3, 5, 6, 11, 15, 16, 30]\n",
    "def insertSearch(nums, n):\n",
    "    if len(nums) == 1:\n",
    "        if nums[0] == n:\n",
    "            return True\n",
    "        else:\n",
    "            return False\n",
    "    mid = 0 + (n - nums[0])//(nums[-1] - nums[0]) * (len(nums) - 1 - 0)\n",
    "    if nums[mid] == n:\n",
    "        return True\n",
    "    elif nums[mid] > n:\n",
    "        return insertSearch(nums[:mid], n)\n",
    "    else:\n",
    "        return insertSearch(nums[mid + 1:], n)\n",
    "\n",
    "n = 13\n",
    "if insertSearch(nums, n):\n",
    "    print('The element '+ str(n) +' is contained in the array')\n",
    "else:\n",
    "    print('The element '+ str(n) +' is not contained in the array')    "
   ]
  },
  {
   "cell_type": "markdown",
   "metadata": {},
   "source": [
    "### 4. 斐波那契查找"
   ]
  },
  {
   "cell_type": "code",
   "execution_count": null,
   "metadata": {},
   "outputs": [],
   "source": [
    "nums = [1, 2, 3, 5, 6, 11, 15, 16, 30]"
   ]
  },
  {
   "cell_type": "markdown",
   "metadata": {},
   "source": [
    "### 5. 树表查找"
   ]
  },
  {
   "cell_type": "markdown",
   "metadata": {},
   "source": [
    "#### 5.1 二叉树查找"
   ]
  },
  {
   "cell_type": "markdown",
   "metadata": {},
   "source": [
    "#### 5.2 2-3查找树"
   ]
  },
  {
   "cell_type": "markdown",
   "metadata": {},
   "source": [
    "#### 5.3 红黑树"
   ]
  },
  {
   "cell_type": "markdown",
   "metadata": {},
   "source": [
    "#### 5.4 B 树/ B+ 树"
   ]
  },
  {
   "cell_type": "markdown",
   "metadata": {},
   "source": [
    "### 6. 分块查找"
   ]
  },
  {
   "cell_type": "code",
   "execution_count": null,
   "metadata": {},
   "outputs": [],
   "source": []
  },
  {
   "cell_type": "markdown",
   "metadata": {},
   "source": [
    "### 7. 哈希查找"
   ]
  },
  {
   "cell_type": "code",
   "execution_count": null,
   "metadata": {},
   "outputs": [],
   "source": []
  }
 ],
 "metadata": {
  "kernelspec": {
   "display_name": "Python 3",
   "language": "python",
   "name": "python3"
  },
  "language_info": {
   "codemirror_mode": {
    "name": "ipython",
    "version": 3
   },
   "file_extension": ".py",
   "mimetype": "text/x-python",
   "name": "python",
   "nbconvert_exporter": "python",
   "pygments_lexer": "ipython3",
   "version": "3.6.7"
  }
 },
 "nbformat": 4,
 "nbformat_minor": 2
}
